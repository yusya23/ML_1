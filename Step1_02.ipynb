{
 "cells": [
  {
   "cell_type": "markdown",
   "metadata": {},
   "source": [
    "# Step1 演習02 Pythonのプログラムの基礎\n",
    "---"
   ]
  },
  {
   "cell_type": "markdown",
   "metadata": {},
   "source": [
    "Pythonは機械学習やAIでよく使われるコンピュータ言語です。ここでは、Pythonプログラムの基本的な使い方を学びます。\n",
    "\n",
    "下記のトピックについて学びましょう。\n",
    "\n",
    "- 変数の使い方\n",
    "- プリント文\n",
    "- 繰り返し文\n",
    "- if文の書き方\n",
    "- 配列\n",
    "- 関数の作り方"
   ]
  },
  {
   "cell_type": "markdown",
   "metadata": {},
   "source": [
    "#### 変数とプリント文\n",
    "自由に変数を作って値を代入し基礎的な演算（「+」は足し算、「-」は引き算、「*」は掛算、「/」は割算、「%」は余り、などなど）ができます。\n",
    "\n",
    "また、プリント文を使って変数の値を確認できます。"
   ]
  },
  {
   "cell_type": "code",
   "execution_count": 1,
   "metadata": {
    "collapsed": false
   },
   "outputs": [
    {
     "name": "stdout",
     "output_type": "stream",
     "text": [
      "a x b =  505\n"
     ]
    }
   ],
   "source": [
    "# 行の先頭に「#」を付けるとその行はコメント行になります。プログラムの実行に影響しません。\n",
    "a = 5\n",
    "b = 101\n",
    "c = a * b\n",
    "print(\"a x b = \", c)"
   ]
  },
  {
   "cell_type": "markdown",
   "metadata": {},
   "source": [
    "#### 繰り返し（for文）"
   ]
  },
  {
   "cell_type": "markdown",
   "metadata": {},
   "source": [
    "同じ処理を繰り返し行いたいということはよくあります（例えば、ある演算を10回繰り返したいなど）。そのため繰り返しは頻繁に使われます。\n",
    "\n",
    "そのような時に用いられるのが「for文」です。\n",
    "\n",
    "rangeを使って繰り返す回数を指定します。\n",
    "\n",
    "たとえば下記の場合のようにrange(5)であれば、forの直後に指定された変数「i」の値を0から4まで+1づつ増加させながら処理を繰り返すので、最終的に処理を５回繰り返すことになります。"
   ]
  },
  {
   "cell_type": "code",
   "execution_count": 2,
   "metadata": {
    "collapsed": false
   },
   "outputs": [
    {
     "name": "stdout",
     "output_type": "stream",
     "text": [
      "a =  0\n",
      "a =  11\n",
      "a =  22\n",
      "a =  33\n",
      "a =  44\n"
     ]
    }
   ],
   "source": [
    "#繰り返し: for\n",
    "\n",
    "# i を0から4まで　i　を+1づつ増加させながら処理を繰り返す\n",
    "for i in range(5):\n",
    "    a = 11 * i\n",
    "    print(\"a = \", a)"
   ]
  },
  {
   "cell_type": "markdown",
   "metadata": {},
   "source": [
    "#### 繰り返し（while文）"
   ]
  },
  {
   "cell_type": "markdown",
   "metadata": {},
   "source": [
    "「while文」は「for文」と同様に処理を繰り返したい時に使われます。\n",
    "\n",
    "whileの右隣に記述した条件が成立している間は、ずっと処理を繰り返します。\n",
    "\n",
    "たとえば、下記の例の場合、「a < 5」という条件、aが5よりも小さいという条件を満たしている間は処理を繰り返します。"
   ]
  },
  {
   "cell_type": "code",
   "execution_count": 3,
   "metadata": {
    "collapsed": false
   },
   "outputs": [
    {
     "name": "stdout",
     "output_type": "stream",
     "text": [
      "a =  1\n",
      "a =  2\n",
      "a =  3\n",
      "a =  4\n",
      "a =  5\n"
     ]
    }
   ],
   "source": [
    "#繰り返し: while\n",
    "a = 0\n",
    "while a < 5: # aが5より小さい間は処理を繰り返す\n",
    "    a = a + 1\n",
    "    print(\"a = \", a)"
   ]
  },
  {
   "cell_type": "markdown",
   "metadata": {},
   "source": [
    "#### 条件文（if文）"
   ]
  },
  {
   "cell_type": "markdown",
   "metadata": {},
   "source": [
    "条件が成立しているかどうかをチェックし、もし条件が成立している場合は特定の処理を行いたいということはよくあります。\n",
    "\n",
    "このような条件判断を行いたい時に使われるのが「if文」です。条件はifの右隣に記述します。\n",
    "\n",
    "たとえば、aとbが等しいかどうかは「a == b」、aとbが違うかどうかは「a != b」、aがb以下であるかどうかは「a <= b」のように記述します。"
   ]
  },
  {
   "cell_type": "code",
   "execution_count": 4,
   "metadata": {
    "collapsed": false
   },
   "outputs": [
    {
     "name": "stdout",
     "output_type": "stream",
     "text": [
      "a != b\n",
      "a <= b\n"
     ]
    }
   ],
   "source": [
    "#条件文: if\n",
    "\n",
    "a=123\n",
    "b=345\n",
    "\n",
    "# 等しいかどうかを確認する。ここは「=」でなく「==」なので注意！\n",
    "if a == b:\n",
    "    print(\"a = b\")\n",
    "# 違うかどうかを確認する\n",
    "if a != b:\n",
    "    print(\"a != b\")\n",
    "# aがb以下であるかを確認する\n",
    "if a <= b:\n",
    "    print(\"a <= b\")"
   ]
  },
  {
   "cell_type": "markdown",
   "metadata": {},
   "source": [
    "#### 条件文(if ... elif文)"
   ]
  },
  {
   "cell_type": "markdown",
   "metadata": {},
   "source": [
    "条件が成立しているかどうかをチェックし、成立している場合は上記同様にif文のすぐ後に続く処理を行い、もし成立していなければ他の処理を行うようにしたい場合は「if ... elif文」を使うと便利です(elifとはelse　ifの略、つまり、「もしそうでなければ」という意味です)。\n",
    "\n",
    "下記のように「elif」はなんども繰り返して使うことができます。最後に「else:」を入れておけば、どの条件にもマッチしない場合に行うべき処理をそこに記述できます。"
   ]
  },
  {
   "cell_type": "code",
   "execution_count": 5,
   "metadata": {
    "collapsed": false
   },
   "outputs": [
    {
     "name": "stdout",
     "output_type": "stream",
     "text": [
      "Japan\n"
     ]
    }
   ],
   "source": [
    "#条件文: if elif\n",
    "country=\"Japan\"\n",
    "\n",
    "if country == \"Japan\":\n",
    "    print(\"Japan\")\n",
    "elif country == \"America\":\n",
    "    print(\"America\")\n",
    "elif country == \"England\":\n",
    "    print(\"England\")\n",
    "else:\n",
    "    print(\"登録されていません\")"
   ]
  },
  {
   "cell_type": "markdown",
   "metadata": {},
   "source": [
    "#### 関数を作る（def文）"
   ]
  },
  {
   "cell_type": "markdown",
   "metadata": {},
   "source": [
    "関数とは、ある値を与えるとその値を使って特定の処理を行い、その結果を返してくれるという優れものです。\n",
    "\n",
    "たとえば、下記のように「def文」を使って定義された「inch_to_cm」という関数は、値aを与えるとそのaの値を使って「c = a * 2.54」という処理（演算）を行い、その結果cを返します。\n",
    "\n",
    "定義した関数を実際に使いたい場合は、「nch_to_cm(2)」のように具体的な値を関数に与えるだけです。下記の例では、関数が返す値は変数bに代入されます。"
   ]
  },
  {
   "cell_type": "code",
   "execution_count": 6,
   "metadata": {
    "collapsed": false
   },
   "outputs": [
    {
     "name": "stdout",
     "output_type": "stream",
     "text": [
      "5.08 cm\n"
     ]
    }
   ],
   "source": [
    "#関数を作る\n",
    "def inch_to_cm(a):\n",
    "    c = a * 2.54\n",
    "    return c\n",
    "\n",
    "b = inch_to_cm(2) # 関数inch_to_cmに「2」を渡す\n",
    "print(\"{} cm\".format(b)) # formatを用いると指定した位置（　{}の位置　）にbの値をプリントできるので便利"
   ]
  },
  {
   "cell_type": "markdown",
   "metadata": {},
   "source": [
    "#### 配列"
   ]
  },
  {
   "cell_type": "markdown",
   "metadata": {},
   "source": [
    "データを扱う時に、データをまとめて扱いたいということはよくあります。\n",
    "\n",
    "そのような時に配列を使うと便利です。配列に並べた個々の数値には、配列の先頭を「0」とした場所（インデックス）を指定することでアクセスできます。\n",
    "\n",
    "たとえば、配列aの先頭に置いた数値にアクセスしたい場合は、先頭の場所は０番目なのでa[0]のように記述します。\n",
    "\n",
    "下記の例では、a[0] の値は「1」、a[1]の値 は「2」、a[2]の値 は「3」、a[3]の値 は「4」、a[4] の値は「5」ということになります。"
   ]
  },
  {
   "cell_type": "code",
   "execution_count": 7,
   "metadata": {
    "collapsed": false
   },
   "outputs": [
    {
     "name": "stdout",
     "output_type": "stream",
     "text": [
      "3\n",
      "size : 5\n"
     ]
    }
   ],
   "source": [
    "#配列\n",
    "a = [1, 2, 3, 4, 5]\n",
    "print(a[2]) # 先頭から３番目の数字にアクセスする場合は「2」を指定ので注意！\n",
    "\n",
    "# 配列の大きさは(サイズ)は「len()」という関数を使って取得できる\n",
    "print(\"size :\", len(a))"
   ]
  },
  {
   "cell_type": "markdown",
   "metadata": {},
   "source": [
    "print文を使うと必ず改行されることに気づいたでしょうか。実はprint文の最後に改行をプリントするのがデフォルトになっています。\n",
    "\n",
    "最後に何をプリントするかを変えたい場合は「end」を使って指定することができます。下記のように何もプリントしない「end=''」を指定すると改行しません。"
   ]
  },
  {
   "cell_type": "code",
   "execution_count": 8,
   "metadata": {
    "collapsed": false
   },
   "outputs": [
    {
     "name": "stdout",
     "output_type": "stream",
     "text": [
      "1 + 2 + 3 + 4 + 5 =  15\n"
     ]
    }
   ],
   "source": [
    "a = [1, 2, 3, 4, 5]\n",
    "for i in range(len(a)):\n",
    "    # print文は「end」を使って、最後に何で終わるのかを指定できる。「end」を使わないとデフォルトで「改行」が指定される。\n",
    "    print(a[i], end='') \n",
    "    if i != len(a)-1:\n",
    "        print(' + ', end='')\n",
    "    else:\n",
    "        print(' = ', sum(a)) # sum()は配列の要素を全て足し算してその結果を返す関数"
   ]
  },
  {
   "cell_type": "markdown",
   "metadata": {},
   "source": [
    "### 下記の演習に自力で挑戦してみましょう！"
   ]
  },
  {
   "cell_type": "markdown",
   "metadata": {},
   "source": [
    "下記のように100個の数値が並んだ配列aを用意しました。"
   ]
  },
  {
   "cell_type": "code",
   "execution_count": 9,
   "metadata": {
    "collapsed": false
   },
   "outputs": [
    {
     "name": "stdout",
     "output_type": "stream",
     "text": [
      "size : 100\n",
      "[0, 0, 0, 0, 1, 1, 0, 0, 0, 0, 0, 0, 0, 1, 1, 1, 1, 0, 0, 0, 0, 0, 1, 1, 0, 0, 1, 1, 0, 0, 0, 0, 1, 0, 0, 0, 1, 1, 0, 0, 0, 0, 1, 0, 0, 0, 1, 1, 0, 0, 0, 0, 0, 0, 0, 1, 1, 0, 0, 0, 0, 0, 0, 0, 1, 1, 0, 0, 0, 0, 0, 0, 0, 1, 1, 0, 0, 0, 0, 0, 0, 0, 1, 1, 0, 0, 0, 0, 0, 0, 0, 0, 1, 1, 1, 1, 1, 1, 0, 0]\n"
     ]
    }
   ],
   "source": [
    "a = [0, 0, 0, 0, 1, 1, 0, 0, 0, 0, 0, 0, 0, 1, 1, 1, 1, 0, 0, 0, 0, 0, 1, 1, 0, 0, 1, 1, 0, 0, 0, 0, 1, 0, 0, 0, 1, 1, 0, 0, 0, 0, 1, 0, 0, 0, 1, 1, 0, 0, 0, 0, 0, 0, 0, 1, 1, 0, 0, 0, 0, 0, 0, 0, 1, 1, 0, 0, 0, 0, 0, 0, 0, 1, 1, 0, 0, 0, 0, 0, 0, 0, 1, 1, 0, 0, 0, 0, 0, 0, 0, 0, 1, 1, 1, 1, 1, 1, 0, 0]\n",
    "print(\"size :\", len(a))\n",
    "print(a)"
   ]
  },
  {
   "cell_type": "markdown",
   "metadata": {},
   "source": [
    "この配列を数値１０ごとに改行すると以下のように記述することもできます。\n",
    "\n",
    "これは、上記のように改行なしにずらっと100個並べた配列aと全く同じものです。 \n",
    "\n",
    "ここで数値が「1」の部分だけを目で追うと、縦横10x10の数字の並びの中に「2」という数字が描かれているのが分かると思います"
   ]
  },
  {
   "cell_type": "code",
   "execution_count": 10,
   "metadata": {
    "collapsed": true
   },
   "outputs": [],
   "source": [
    "# for文を用いて配列aの内容をプリント\n",
    "a = [0, 0, 0, 0, 1, 1, 0, 0, 0, 0,\n",
    "        0, 0, 0, 1, 1, 1, 1, 0, 0, 0,\n",
    "        0, 0, 1, 1, 0, 0, 1, 1, 0, 0,\n",
    "        0, 0, 1, 0, 0, 0, 1, 1, 0, 0,\n",
    "        0, 0, 1, 0, 0, 0, 1, 1, 0, 0,\n",
    "        0, 0, 0, 0, 0, 1, 1, 0, 0, 0,\n",
    "        0, 0, 0, 0, 1, 1, 0, 0, 0, 0,\n",
    "        0, 0, 0, 1, 1, 0, 0, 0, 0, 0,\n",
    "        0, 0, 1, 1, 0, 0, 0, 0, 0, 0,\n",
    "        0, 0, 1, 1, 1, 1, 1, 1, 0, 0]"
   ]
  },
  {
   "cell_type": "markdown",
   "metadata": {},
   "source": [
    "#### 「for文」を用いて配列aの内容をプリントしてみよう"
   ]
  },
  {
   "cell_type": "markdown",
   "metadata": {},
   "source": [
    "配列aは要素が100個ある一次元配列です。１０個の要素ごとに改行し、「0」の時は空白「' '」をプリント、「1」の時はアスタリスク「'*'」をプリントすると、2という数字が浮かびあがります。\n",
    "\n",
    "ところで、Pythonでは「#」の後は全てコメントとして扱われます（コメントとは何を記述してもプログラムに影響しない部分のことです）。\n",
    "\n",
    "しかし、この方法では複数の行にまたがるコメントを記述することができません。\n",
    "\n",
    "そのような場合に用いることができるのが「'''」を利用する方法です。「'''」と「'''」で挟まれた行が全てコメントとして扱われます。"
   ]
  },
  {
   "cell_type": "code",
   "execution_count": 14,
   "metadata": {
    "collapsed": false
   },
   "outputs": [
    {
     "ename": "SyntaxError",
     "evalue": "invalid syntax (<ipython-input-14-5478813e5fff>, line 25)",
     "output_type": "error",
     "traceback": [
      "\u001b[0;36m  File \u001b[0;32m\"<ipython-input-14-5478813e5fff>\"\u001b[0;36m, line \u001b[0;32m25\u001b[0m\n\u001b[0;31m    if i % 1- == 0:\u001b[0m\n\u001b[0m               ^\u001b[0m\n\u001b[0;31mSyntaxError\u001b[0m\u001b[0;31m:\u001b[0m invalid syntax\n"
     ]
    }
   ],
   "source": [
    "# for文を用いて配列aの内容をプリントしてみよう\n",
    "# 下記のように「'''」で始まり、「'''」で終わるまでの行は全てコメントとして扱われます\n",
    "'''\n",
    "配列aは要素が100個ある一次元配列です。\n",
    "１０個の要素ごとに改行し、\n",
    "「0」の時は空白「' '」をプリント、「1」の時はアスタリスク「'*'」をプリントすると、\n",
    "下記のようにプリントされます。\n",
    "\n",
    "   **    \n",
    "  ****   \n",
    " **  **  \n",
    " *   **  \n",
    " *   **  \n",
    "    **   \n",
    "   **    \n",
    "  **     \n",
    " **      \n",
    " ****** \n",
    " \n",
    " （ヒント）「%」という演算子は、割り算の余りを返します。つまり、ちょうど割り切れる場合は0を返します。\n",
    " 　　　　　　　　　　　例） 10 % 3 = 1,   9 % 3 = 0,    5 % 3 = 2,   20 % 10 = 0\n",
    "'''\n",
    "\n",
    "for i in range(100):\n",
    "    if i % 10 == 0:\n",
    "        print('')\n",
    "    elif a[i] == 1:\n",
    "        print('*', end='')\n",
    "    else:\n",
    "        print(' ', end='')"
   ]
  },
  {
   "cell_type": "code",
   "execution_count": 12,
   "metadata": {
    "collapsed": false
   },
   "outputs": [
    {
     "name": "stdout",
     "output_type": "stream",
     "text": [
      "\n",
      "   **    \n",
      "  ****   \n",
      " **  **  \n",
      " *   **  \n",
      " *   **  \n",
      "    **   \n",
      "   **    \n",
      "  **     \n",
      " **      \n",
      " ******  "
     ]
    }
   ],
   "source": [
    "#　解答例\n",
    "for i in range(100):\n",
    "    if i % 10 == 0:\n",
    "        print('')\n",
    "    elif a[i] == 1:\n",
    "        print('*', end='')\n",
    "    else:\n",
    "        print(' ', end='')"
   ]
  },
  {
   "cell_type": "code",
   "execution_count": null,
   "metadata": {
    "collapsed": true
   },
   "outputs": [],
   "source": []
  }
 ],
 "metadata": {
  "anaconda-cloud": {},
  "kernelspec": {
   "display_name": "Python [default]",
   "language": "python",
   "name": "python3"
  },
  "language_info": {
   "codemirror_mode": {
    "name": "ipython",
    "version": 3
   },
   "file_extension": ".py",
   "mimetype": "text/x-python",
   "name": "python",
   "nbconvert_exporter": "python",
   "pygments_lexer": "ipython3",
   "version": "3.5.2"
  },
  "toc": {
   "nav_menu": {
    "height": "213px",
    "width": "252px"
   },
   "navigate_menu": true,
   "number_sections": true,
   "sideBar": true,
   "threshold": 4,
   "toc_cell": false,
   "toc_section_display": "block",
   "toc_window_display": false
  }
 },
 "nbformat": 4,
 "nbformat_minor": 2
}
