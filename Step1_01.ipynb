{
 "cells": [
  {
   "cell_type": "markdown",
   "metadata": {},
   "source": [
    "# Step1 演習01 Jupyter Notebookを使った課題提出の練習とライブラリの利用\n",
    "---"
   ]
  },
  {
   "cell_type": "markdown",
   "metadata": {},
   "source": [
    "機械学習コースStep1の演習へようこそ！\n",
    "\n",
    "Step1 演習01 では、演習環境のJupyter Notebookの利用方法を説明します。\n",
    "\n",
    "これまでに Python や Jupyter Notebook に触れたことがある方でもさまざまな諸注意を記載しているので、きちんと確認してください。\n",
    "\n",
    "ここでは最初の練習課題として**演習の提出練習**と機械学習を実装する際によく使われる**ライブラリの紹介**をします。\n",
    "\n",
    "**はじめに**\n",
    "- 本コースではPython3を使用します。\n",
    "- for文やwhile文の利用は明示的な利用指示がない場所での使用は避けてください。\n",
    "- セル内へのコーディング後、セルを実行すると真下に結果が表示されます。\n",
    "\n",
    "**本演習の目的**\n",
    "- 課題の提出をしてみる。\n",
    "- Jupyter Notebookに触れ、使ってみる。\n",
    "- 数値計算ライブラリ NumPy に触れ、簡単な計算をしてみる。\n",
    "- 描画ライブラリ Matplotlib を使ったデータの可視化をしてみる。"
   ]
  },
  {
   "cell_type": "markdown",
   "metadata": {},
   "source": [
    "## Jupyter Notebookについて\n",
    "\n",
    "本コースの演習は、Jupyter Notebookを利用して課題に取り組みます。\n",
    "\n",
    "Jupyter Notebookは、Webページでインタラクティブなコーディング開発が行えるオープソースサービスです。\n",
    "\n",
    "実際の課題でのコーディングは指示したエリアに記入をしてもらいます。具体的には以下のように示します。\n",
    "\n",
    "公式サイト：[Jupyter](http://jupyter.org/) \n",
    "\n",
    "<br>\n",
    "\n",
    "** 下の ### で囲われた場所に演習の回答を記入 **\n",
    "###############ここを穴埋めしてください###############\n",
    "\n",
    "ここにコードを記入する！！\n",
    "######################################################\n",
    "\n",
    "**※ Pythonは「 # 」（ハッシュマーク）がコメントアウト記号です。ハッシュマーク以降の記述は実行対象とはなりません。**\n",
    "\n",
    "指定されたエリアへのコーディングがおわったら、セルを実行します。\n",
    "- **セルを実行**：実行したいセルをクリックし、\"SHIFT\"+\"ENTER\" を押す。"
   ]
  },
  {
   "cell_type": "code",
   "execution_count": 1,
   "metadata": {
    "collapsed": false
   },
   "outputs": [
    {
     "name": "stdout",
     "output_type": "stream",
     "text": [
      "Hello\n"
     ]
    }
   ],
   "source": [
    "###############ここを穴埋めしてください###############\n",
    "test = \"Hello\"\n",
    "print(test)\n",
    "######################################################"
   ]
  },
  {
   "cell_type": "markdown",
   "metadata": {},
   "source": [
    "実行したセルの下に「 Hello 」 と表示されたら成功です！\n",
    "\n",
    "出力結果は実行したセルのすぐ下に表示されます。"
   ]
  },
  {
   "cell_type": "markdown",
   "metadata": {},
   "source": [
    "### データの保存 \n",
    "\n",
    "Jupyter Notebookに記述したデータは、ツールバーの一番左にある** 保存ボタン **を押すことで保存することができます。\n",
    "\n",
    "<br>\n",
    "\n",
    "<div align=\"center\"  style=\"width:70%\">\n",
    "<img src=\"./dataStep1/step1_save_file.png\"></div>\n",
    "\n",
    "<br>\n",
    "\n",
    "コーディングの途中で適宜** データの保存 **をしましょう。"
   ]
  },
  {
   "cell_type": "markdown",
   "metadata": {},
   "source": [
    "### セルの追加方法\n",
    "\n",
    "セルは保存ボタン右側の **\" + \"** を押すことで追加することができます。必要に応じてセルを追加して学習に利用してください。\n",
    "\n",
    "追加される場所は、最後にクリックしたセルの下に追加されます。"
   ]
  },
  {
   "cell_type": "markdown",
   "metadata": {},
   "source": [
    "### セルの種類\n",
    "\n",
    "セルの種類は**コード**と**マークダウン**を選ぶことができます。\n",
    "\n",
    "プログラムを実行するセルを追加したい場合は\"Code\"、メモなどノート機能として利用したい場合は\"Markdown\"を選びます。\n",
    "\n",
    "<br>\n",
    "\n",
    "<div align=\"center\"  style=\"width:70%\">\n",
    "<img src=\"./dataStep1/step1_cell_type.png\"></div>\n",
    "\n",
    "- Code：プログラムを実行できるセル\n",
    "- Markdown：マークダウン形式でメモを残すことができるセル"
   ]
  },
  {
   "cell_type": "markdown",
   "metadata": {},
   "source": [
    "<font color='blue'>\n",
    "**振り返り**:\n",
    "- セルを実行するには \"SHIFT+ENTER\" (or \"Run cell\")で実行する。\n",
    "- Pythonのバージョンは3\n",
    "- 演習セルのコーディング指定箇所以外の編集は行わない。（エラーの原因になってしまいます。）\n",
    "- コーディングの途中で適宜保存をする。"
   ]
  },
  {
   "cell_type": "markdown",
   "metadata": {},
   "source": [
    "## 課題の提出（練習）\n",
    "\n",
    "では早速、課題に取り組みます。\n",
    "\n",
    "演習課題は下のように **【課題 + 課題番号】** で与えられます。 **【課題 + 課題番号】** に続く質問をよく読み回答してください。"
   ]
  },
  {
   "cell_type": "markdown",
   "metadata": {},
   "source": [
    "**【練習課題１】** 文字列 \"Hello\" を変数 a に格納し、その内容を返すPythonの関数 greetを書きましょう。"
   ]
  },
  {
   "cell_type": "markdown",
   "metadata": {},
   "source": [
    "<font color='red'>\n",
    "** 注意 **\n",
    "<font color='b'>\n",
    "これから行うすべての課題のセル内最初にある（今回の例では次の通り） <font color='red'>\"#Step1 QuestionNumber1 b6f589bbf86d8db9a7f2cdd226b1d934 \" <font color='b'>は書き換えないでください。書き換えてしまうと採点が行えません。\n",
    "<br><br>\n",
    "** Note： **<br>演習では各ステップで出題されるセルのみが採点対象となります。"
   ]
  },
  {
   "cell_type": "code",
   "execution_count": 2,
   "metadata": {
    "collapsed": true
   },
   "outputs": [],
   "source": [
    "#Coursemale-02 Step1 QuestionNumber1 04299b15558d646f8dbcfe26be736811\n",
    "def greet():\n",
    "###############ここを穴埋めしてください###############\n",
    "    #分からなければ下の「例題の解答例」の通り入力しましょう。\n",
    "    a = 'Hello'\n",
    "######################################################\n",
    "    return a"
   ]
  },
  {
   "cell_type": "markdown",
   "metadata": {},
   "source": [
    "<font color='blue'>演習の記述・セルの実行が終わったら、**保存をクリックした後**、次のセル（下の\"%%bash以下略\"）と書かれているセルを \"SHIFT\"+\"ENTER\" で実行して採点します。\n",
    "<font color='b'>\n",
    "** ＜採点有効化キーを入力してください＞のところは、採点有効化キーを本演習のみ入力します。**\n",
    "\n",
    "以降２度目の採点や他の課題の採点のとき、改めて採点有効化キーを入力する必要はありません。`Invalid activationKey`と出た場合は、一度採点有効化キーが間違えていなく確認を行い、改めて実行してください。\n",
    "\n",
    "例：`./validation_client.py 1 1 Step1_01.ipynb example01.zero2one.jp 12345678901234567890`"
   ]
  },
  {
   "cell_type": "code",
   "execution_count": 4,
   "metadata": {
    "collapsed": false
   },
   "outputs": [
    {
     "name": "stdout",
     "output_type": "stream",
     "text": [
      "Congratulations!\n",
      "We give you 10 points out of 10 points.\n",
      "\n"
     ]
    }
   ],
   "source": [
    "%%bash\n",
    "./validation_client.py male-02 1 1 Step1_01.ipynb api.internal.zero2one.jp 25456f87c8f04725a65d"
   ]
  },
  {
   "cell_type": "markdown",
   "metadata": {},
   "source": [
    "Congraturation!と出た場合、正解です。実装を正しく行うことができています。また点数が記録されます。\n",
    "\n",
    "Check your code againと出た場合、不正解です。もう一度考え直しましょう。\n",
    "\n",
    "ExcessiveAccess: Wait for 10 secondsと出た場合、10秒待ち、改めて採点しましょう。"
   ]
  },
  {
   "cell_type": "markdown",
   "metadata": {},
   "source": [
    "**例題の解答例**"
   ]
  },
  {
   "cell_type": "code",
   "execution_count": 5,
   "metadata": {
    "collapsed": true
   },
   "outputs": [],
   "source": [
    "def greet():\n",
    "    a = 'Hello'\n",
    "    return a"
   ]
  },
  {
   "cell_type": "markdown",
   "metadata": {},
   "source": [
    "試しにgreet()を実行してみましょう。"
   ]
  },
  {
   "cell_type": "code",
   "execution_count": 6,
   "metadata": {
    "collapsed": false
   },
   "outputs": [
    {
     "data": {
      "text/plain": [
       "'Hello'"
      ]
     },
     "execution_count": 6,
     "metadata": {},
     "output_type": "execute_result"
    }
   ],
   "source": [
    "greet()"
   ]
  },
  {
   "cell_type": "markdown",
   "metadata": {},
   "source": [
    "以上で、Jupyter Notebookの基本的な使い方と演習提出方法はおしまいです。\n",
    "\n",
    "次に機械学習を実装する際によく使われるライブラリの紹介をします。"
   ]
  },
  {
   "cell_type": "markdown",
   "metadata": {},
   "source": [
    "---"
   ]
  },
  {
   "cell_type": "markdown",
   "metadata": {},
   "source": [
    "## NumPyを使ってみよう"
   ]
  },
  {
   "cell_type": "markdown",
   "metadata": {
    "collapsed": true
   },
   "source": [
    "NumPy(ナンパイ、ナンピー、ナムパイ)は、プログラミング言語Pythonを使った数値計算を行うための基本パッケージです。<br>\n",
    "（ [NumPy](http://www.numpy.org)  ）によって運営されています。\n",
    "\n",
    "NumPyには、効率的な数値計算を行うための多次元配列（ベクトル、行列）のサポートをPythonに加え、それを操作するための数学関数が提供されています。\n",
    "\n",
    "Pythonではライブラリが利用できるようにインポート文（例えば「import numpy as np」）を記述します。\n",
    "\n",
    "意味は、「numpyをnpとして読み込む」となります。"
   ]
  },
  {
   "cell_type": "markdown",
   "metadata": {
    "collapsed": true
   },
   "source": [
    "** 順番にコードを実行してみよう。**"
   ]
  },
  {
   "cell_type": "code",
   "execution_count": 7,
   "metadata": {
    "collapsed": true
   },
   "outputs": [],
   "source": [
    "import numpy as np"
   ]
  },
  {
   "cell_type": "code",
   "execution_count": 8,
   "metadata": {
    "collapsed": false
   },
   "outputs": [
    {
     "data": {
      "text/plain": [
       "[1, 2, 3, 4, 5]"
      ]
     },
     "execution_count": 8,
     "metadata": {},
     "output_type": "execute_result"
    }
   ],
   "source": [
    "#Pythonの配列：要素が1,2,3,4,5の１次元配列を作成\n",
    "[1, 2, 3,4,5]"
   ]
  },
  {
   "cell_type": "code",
   "execution_count": 9,
   "metadata": {
    "collapsed": false
   },
   "outputs": [
    {
     "data": {
      "text/plain": [
       "[1, 2, 3, 4, 5, 1, 2, 3, 4, 5]"
      ]
     },
     "execution_count": 9,
     "metadata": {},
     "output_type": "execute_result"
    }
   ],
   "source": [
    "#Pythonの配列：要素が1,2,3,4,5の１次元配列に対して掛ける２の演算\n",
    "[1, 2, 3, 4, 5] * 2"
   ]
  },
  {
   "cell_type": "markdown",
   "metadata": {},
   "source": [
    "NumPyを使った配列を作るには、 \"np.array\" と記述します。"
   ]
  },
  {
   "cell_type": "code",
   "execution_count": 10,
   "metadata": {
    "collapsed": false
   },
   "outputs": [
    {
     "data": {
      "text/plain": [
       "array([1, 2, 3, 4, 5])"
      ]
     },
     "execution_count": 10,
     "metadata": {},
     "output_type": "execute_result"
    }
   ],
   "source": [
    "#NumPyの配列：要素が1,2,3,4,5の１次元配列を作成\n",
    "np.array([1,2,3,4,5])"
   ]
  },
  {
   "cell_type": "code",
   "execution_count": 11,
   "metadata": {
    "collapsed": false
   },
   "outputs": [
    {
     "data": {
      "text/plain": [
       "array([ 2,  4,  6,  8, 10])"
      ]
     },
     "execution_count": 11,
     "metadata": {},
     "output_type": "execute_result"
    }
   ],
   "source": [
    "#NumPyの配列：要素が1,2,3,4,5の１次元配列に対して掛ける２の演算\n",
    "np.array([1,2,3,4,5]) * 2"
   ]
  },
  {
   "cell_type": "code",
   "execution_count": 12,
   "metadata": {
    "collapsed": false
   },
   "outputs": [
    {
     "data": {
      "text/plain": [
       "array([1, 2, 3, 4, 5])"
      ]
     },
     "execution_count": 12,
     "metadata": {},
     "output_type": "execute_result"
    }
   ],
   "source": [
    "#NumPyの配列：要素が1から6未満で間隔が１の１次元配列を生成\n",
    "np.arange(1,6)"
   ]
  },
  {
   "cell_type": "code",
   "execution_count": 13,
   "metadata": {
    "collapsed": false
   },
   "outputs": [
    {
     "data": {
      "text/plain": [
       "array([1. , 1.5, 2. , 2.5, 3. , 3.5, 4. , 4.5, 5. , 5.5])"
      ]
     },
     "execution_count": 13,
     "metadata": {},
     "output_type": "execute_result"
    }
   ],
   "source": [
    "#NumPyの配列：要素が1から6未満の0.5間隔の１次元配列を生成\n",
    "np.arange(1,6,0.5)"
   ]
  },
  {
   "cell_type": "markdown",
   "metadata": {},
   "source": [
    "<font color='blue'>\n",
    "**Note：** 下のセルの「 arange 」の上でクリックをした後、\"SHIFT\" + \"TAB\" を押すと、対象の関数の引数や使用例を確認することができます。\n",
    "\n",
    "とっても便利な機能なので有効利用してください。"
   ]
  },
  {
   "cell_type": "markdown",
   "metadata": {},
   "source": [
    "<div align=\"center\"  style=\"width:70%\">\n",
    "<img src=\"./dataStep1/step1_manual.png\"></div>"
   ]
  },
  {
   "cell_type": "code",
   "execution_count": 14,
   "metadata": {
    "collapsed": false
   },
   "outputs": [
    {
     "data": {
      "text/plain": [
       "array([-3. , -2.5, -2. , -1.5, -1. , -0.5,  0. ,  0.5,  1. ,  1.5,  2. ,\n",
       "        2.5])"
      ]
     },
     "execution_count": 14,
     "metadata": {},
     "output_type": "execute_result"
    }
   ],
   "source": [
    "np.arange(-3,3,0.5)"
   ]
  },
  {
   "cell_type": "markdown",
   "metadata": {},
   "source": [
    "### ベクトル・行列"
   ]
  },
  {
   "cell_type": "markdown",
   "metadata": {},
   "source": [
    "ここでは多次元配列の場合について考えてみましょう。NumPyは、ベクトル表記や行列表記もサポートしています。\n",
    "\n",
    "例えば、 $ x = (x_1, x_2, ..., x_n)$ の1行n列の行列とします。\n",
    "\n",
    "そのとき $np.exp(x)$ に$x$の行列を代入するとそれぞれの要素ごとに適用されることになるので、出力も１行n列の行列になります。: $np.exp(x) = (e^{x_1}, e^{x_2}, ..., e^{x_n})$\n",
    "\n",
    "では実際にしたのセルを順番に実行して確認してみよう。"
   ]
  },
  {
   "cell_type": "code",
   "execution_count": 15,
   "metadata": {
    "collapsed": false
   },
   "outputs": [
    {
     "data": {
      "text/plain": [
       "array([[1, 2, 3],\n",
       "       [1, 2, 3]])"
      ]
     },
     "execution_count": 15,
     "metadata": {},
     "output_type": "execute_result"
    }
   ],
   "source": [
    "#NumPyの多次元配列：２行３列の行列を作成\n",
    "np.array([[1, 2, 3],[1, 2, 3]])"
   ]
  },
  {
   "cell_type": "markdown",
   "metadata": {},
   "source": [
    "shape は配列の形を確認するときに使います。"
   ]
  },
  {
   "cell_type": "code",
   "execution_count": 16,
   "metadata": {
    "collapsed": false
   },
   "outputs": [
    {
     "data": {
      "text/plain": [
       "(2, 3)"
      ]
     },
     "execution_count": 16,
     "metadata": {},
     "output_type": "execute_result"
    }
   ],
   "source": [
    "#2行3列の行列のshape（行列の形）を確認\n",
    "np.array([[1, 2, 3],[1, 2, 3]]).shape"
   ]
  },
  {
   "cell_type": "code",
   "execution_count": 17,
   "metadata": {
    "collapsed": false
   },
   "outputs": [
    {
     "data": {
      "text/plain": [
       "array([[ 2.71828183,  7.3890561 , 20.08553692],\n",
       "       [ 2.71828183,  7.3890561 , 20.08553692]])"
      ]
     },
     "execution_count": 17,
     "metadata": {},
     "output_type": "execute_result"
    }
   ],
   "source": [
    "#np.exp()に2行３列の行列を代入すると2行３列の行列が出力される\n",
    "np.exp(np.array([[1, 2, 3],[1, 2, 3]]))"
   ]
  },
  {
   "cell_type": "markdown",
   "metadata": {},
   "source": [
    "### いろいろな行列のshape"
   ]
  },
  {
   "cell_type": "code",
   "execution_count": 18,
   "metadata": {
    "collapsed": false
   },
   "outputs": [
    {
     "data": {
      "text/plain": [
       "array([1, 2, 3, 4, 5])"
      ]
     },
     "execution_count": 18,
     "metadata": {},
     "output_type": "execute_result"
    }
   ],
   "source": [
    "np.array([1,2,3,4,5])"
   ]
  },
  {
   "cell_type": "code",
   "execution_count": 19,
   "metadata": {
    "collapsed": false
   },
   "outputs": [
    {
     "data": {
      "text/plain": [
       "(5,)"
      ]
     },
     "execution_count": 19,
     "metadata": {},
     "output_type": "execute_result"
    }
   ],
   "source": [
    "#NumPyの1次元配列：\n",
    "np.array([1,2,3,4,5]).shape"
   ]
  },
  {
   "cell_type": "code",
   "execution_count": 20,
   "metadata": {
    "collapsed": false
   },
   "outputs": [
    {
     "data": {
      "text/plain": [
       "array([[1, 2, 3, 4, 5]])"
      ]
     },
     "execution_count": 20,
     "metadata": {},
     "output_type": "execute_result"
    }
   ],
   "source": [
    "#NumPyの多次元配列：1行5列の行列を作成\n",
    "np.array([[1,2,3,4,5]])"
   ]
  },
  {
   "cell_type": "code",
   "execution_count": 21,
   "metadata": {
    "collapsed": false
   },
   "outputs": [
    {
     "data": {
      "text/plain": [
       "(1, 5)"
      ]
     },
     "execution_count": 21,
     "metadata": {},
     "output_type": "execute_result"
    }
   ],
   "source": [
    "#1行5列の行列のshape（行列の形）を確認\n",
    "np.array([[1,2,3,4,5]]).shape"
   ]
  },
  {
   "cell_type": "code",
   "execution_count": 22,
   "metadata": {
    "collapsed": false
   },
   "outputs": [
    {
     "data": {
      "text/plain": [
       "array([[1],\n",
       "       [2],\n",
       "       [3],\n",
       "       [4],\n",
       "       [5]])"
      ]
     },
     "execution_count": 22,
     "metadata": {},
     "output_type": "execute_result"
    }
   ],
   "source": [
    "#NumPyの多次元配列：５行１列の行列\n",
    "np.array([[1],[2],[3],[4],[5]])"
   ]
  },
  {
   "cell_type": "code",
   "execution_count": 23,
   "metadata": {
    "collapsed": false
   },
   "outputs": [
    {
     "data": {
      "text/plain": [
       "(5, 1)"
      ]
     },
     "execution_count": 23,
     "metadata": {},
     "output_type": "execute_result"
    }
   ],
   "source": [
    "#5行1列の行列のshape（行列の形）を確認\n",
    "np.array([[1],[2],[3],[4],[5]]).shape"
   ]
  },
  {
   "cell_type": "markdown",
   "metadata": {},
   "source": [
    "ここではNumPyの紹介は以上とします。\n",
    "<br><br>\n",
    "「Step1 演習04 Jupyter Notebookを使って実装の練習をしてみよう」で、さらに多くのNumPy関数を紹介しています。"
   ]
  },
  {
   "cell_type": "markdown",
   "metadata": {},
   "source": [
    "## Matplolibでデータの可視化をする"
   ]
  },
  {
   "cell_type": "markdown",
   "metadata": {},
   "source": [
    "機械学習では、大量のデータを取り扱うためにデータを可視化しグラフでみることは大変重要な作業の一つです。\n",
    "\n",
    "ここでは、NumPyといっしょによく使われるグラフ描画ライブラリ$matplolib$ を実際に使ってみます。\n",
    "\n",
    "- [matplotlib](http://matplotlib.org)：公式ドキュメント\n",
    "\n",
    "一般に matplolib をインポートする際は 「 import matplotlib.pyplot as plt 」と記述します。"
   ]
  },
  {
   "cell_type": "markdown",
   "metadata": {},
   "source": [
    "**【練習】** matplotlibを使ってsin関数のグラフを表示する。\n",
    "\n",
    "** Note： **<br>\n",
    "matplotlibではデータを受け取り、実線を出力する **plt.plot()**（plt.scatter()は、散布図を出力）が用意されています。\n",
    "\n",
    "**plt.plot()**の引数の渡し方の例として、**plt.plot(x,y)**と記述した場合、xは横軸を、yは縦軸の値の結果を出力してくれます。"
   ]
  },
  {
   "cell_type": "markdown",
   "metadata": {},
   "source": [
    "下のセルを順番に実行してsinカーブを出力してみましょう。"
   ]
  },
  {
   "cell_type": "code",
   "execution_count": 24,
   "metadata": {
    "collapsed": true
   },
   "outputs": [],
   "source": [
    "import numpy as np  # NumPyを読み込む\n",
    "import matplotlib.pyplot as plt   #Matplotlibを読み込む"
   ]
  },
  {
   "cell_type": "code",
   "execution_count": 25,
   "metadata": {
    "collapsed": false
   },
   "outputs": [
    {
     "data": {
      "text/plain": [
       "array([0. , 0.1, 0.2, 0.3, 0.4, 0.5, 0.6, 0.7, 0.8, 0.9, 1. , 1.1, 1.2,\n",
       "       1.3, 1.4, 1.5, 1.6, 1.7, 1.8, 1.9, 2. , 2.1, 2.2, 2.3, 2.4, 2.5,\n",
       "       2.6, 2.7, 2.8, 2.9, 3. , 3.1, 3.2, 3.3, 3.4, 3.5, 3.6, 3.7, 3.8,\n",
       "       3.9, 4. , 4.1, 4.2, 4.3, 4.4, 4.5, 4.6, 4.7, 4.8, 4.9, 5. , 5.1,\n",
       "       5.2, 5.3, 5.4, 5.5, 5.6, 5.7, 5.8, 5.9, 6. , 6.1, 6.2, 6.3, 6.4,\n",
       "       6.5, 6.6, 6.7, 6.8, 6.9, 7. , 7.1, 7.2, 7.3, 7.4, 7.5, 7.6, 7.7,\n",
       "       7.8, 7.9, 8. , 8.1, 8.2, 8.3, 8.4, 8.5, 8.6, 8.7, 8.8, 8.9, 9. ,\n",
       "       9.1, 9.2, 9.3, 9.4, 9.5, 9.6, 9.7, 9.8, 9.9])"
      ]
     },
     "execution_count": 25,
     "metadata": {},
     "output_type": "execute_result"
    }
   ],
   "source": [
    "#0から最大10まで0.1ずつ増える配列を生成\n",
    "x = np.arange(0,10,0.1)\n",
    "x"
   ]
  },
  {
   "cell_type": "code",
   "execution_count": 26,
   "metadata": {
    "collapsed": true
   },
   "outputs": [],
   "source": [
    "#生成した配列 x をnp.sin()に渡し y に格納\n",
    "y = np.sin(x)"
   ]
  },
  {
   "cell_type": "code",
   "execution_count": 27,
   "metadata": {
    "collapsed": false
   },
   "outputs": [
    {
     "data": {
      "image/png": "[encoded data removed]",
      "text/plain": [
       "<matplotlib.figure.Figure at 0x7f358050c6a0>"
      ]
     },
     "metadata": {},
     "output_type": "display_data"
    }
   ],
   "source": [
    "# 横軸に x の値、縦軸に y　の値をプロットする\n",
    "plt.plot(x, y)      # plt.scatter()に変更してみると...\n",
    "plt.show()         #plt.show()でグラフを表示します。"
   ]
  },
  {
   "cell_type": "markdown",
   "metadata": {},
   "source": [
    "無事グラフを表示することができたでしょうか。\n",
    "\n",
    "NumPy や Matplotlibといったライブラリを使う際は基本的に一番最初に読み込みを行います。\n",
    "\n",
    "Step2以降の問題でもライブラリのインポートは一番はじめに行っているので意識して確認してみてください。"
   ]
  },
  {
   "cell_type": "markdown",
   "metadata": {},
   "source": [
    "## おつかれさまでした。"
   ]
  },
  {
   "cell_type": "markdown",
   "metadata": {},
   "source": [
    "以上で、Step1の演習は終了です。今回の演習では以下のことを学習しました。\n",
    "\n",
    "- Jupyter Notebookの利用法\n",
    "- 演習の提出方法\n",
    "- Jupyter Notebookを使ったPythonの実装\n",
    "- 数値計算ライブラリ NumPy をインポートし、実際に使ってみる\n",
    "- 描画ライブラリ matplotlib をインポートし、実際にグラフを出力してみる"
   ]
  },
  {
   "cell_type": "code",
   "execution_count": null,
   "metadata": {
    "collapsed": true
   },
   "outputs": [],
   "source": []
  }
 ],
 "metadata": {
  "anaconda-cloud": {},
  "kernelspec": {
   "display_name": "Python [default]",
   "language": "python",
   "name": "python3"
  },
  "language_info": {
   "codemirror_mode": {
    "name": "ipython",
    "version": 3
   },
   "file_extension": ".py",
   "mimetype": "text/x-python",
   "name": "python",
   "nbconvert_exporter": "python",
   "pygments_lexer": "ipython3",
   "version": "3.5.2"
  },
  "toc": {
   "nav_menu": {
    "height": "213px",
    "width": "252px"
   },
   "navigate_menu": true,
   "number_sections": true,
   "sideBar": true,
   "threshold": 4,
   "toc_cell": false,
   "toc_section_display": "block",
   "toc_window_display": true
  }
 },
 "nbformat": 4,
 "nbformat_minor": 1
}
