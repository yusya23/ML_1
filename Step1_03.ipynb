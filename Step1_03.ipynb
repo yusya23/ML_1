{
 "cells": [
  {
   "cell_type": "markdown",
   "metadata": {},
   "source": [
    "# Step1 演習03 NumPyの基礎\n",
    "---"
   ]
  },
  {
   "cell_type": "markdown",
   "metadata": {},
   "source": [
    "機械学習では与えられたデータに対してさまざまな演算（数学的な処理）を行います。\n",
    "\n",
    "また、大量のデータは個々に扱うよりも配列としてまとめて取り扱うと便利です。\n",
    "\n",
    "そのため、配列を使って数値計算（数学的な処理）が行いやすいと助かります。\n",
    "\n",
    "NumPyは、まさにそのような目的のために用意されたライブラリです。その便利さを実感してみましょう。\n",
    "\n",
    "**はじめに**\n",
    "- for文やwhile文の利用は明示的な利用指示がない場所での使用は避けてください。\n",
    "\n",
    "**本演習の目的**\n",
    "- 数値計算ライブラリNumPyを実際に使って試してみる。\n",
    "- NumPyを使った記述方法を学ぶ。"
   ]
  },
  {
   "cell_type": "markdown",
   "metadata": {},
   "source": [
    "## ライブラリのインポート"
   ]
  },
  {
   "cell_type": "markdown",
   "metadata": {},
   "source": [
    "まずはじめに、利用するライブラリのインポートを行います。\n",
    "\n",
    "- [NumPy](http://www.numpy.org) 数値計算を行うための基本パッケージの公式ドキュメント\n",
    "- [Matplotlib](http://matplotlib.org) グラフ描画ライブラリの基本パッケージの公式ドキュメント\n",
    "\n",
    "ドキュメントには有用な情報が書き記されています。何か迷ったときには必ずドキュメントに戻ってくるようにしましょう。\n",
    "\n",
    "次のセルをそのまま実行（\"SHIFT\" + \"ENTER\"）してください。コードが書いてあるセルは**上から順番に**順次実行してください。\n",
    "\n",
    "** 注意： **初めてmatplotlibを使うユーザーは、フォント一覧のキャッシュが存在しないため、このセルの実行でWarningが出ます。もう一度実行すると、すでにキャッシュができているので、Warningなく走ります。"
   ]
  },
  {
   "cell_type": "code",
   "execution_count": 1,
   "metadata": {
    "collapsed": true
   },
   "outputs": [],
   "source": [
    "import numpy as np\n",
    "import matplotlib.pyplot as plt\n",
    "%matplotlib inline"
   ]
  },
  {
   "cell_type": "markdown",
   "metadata": {},
   "source": [
    "###  ベクトル演算\n",
    "機械学習ではベクトル演算を頻繁に利用します。例えば、下記のようにベクトル(1, 2)を３倍するとベクトル(3, 6)になるような演算ができると便利です。\n",
    "\n",
    "<div align=\"center\"  style=\"width:100%\">\n",
    "<img src=\"./dataStep1/vector_operation.png\"></div>"
   ]
  },
  {
   "cell_type": "markdown",
   "metadata": {},
   "source": [
    "ベクトルは数字を並べたものですから、ベクトルを表現するのに配列が使えると便利です。Python標準の配列を使ってベクトル(1, 2)を表現すると次のように記述できるでしょう。"
   ]
  },
  {
   "cell_type": "code",
   "execution_count": 2,
   "metadata": {
    "collapsed": true
   },
   "outputs": [],
   "source": [
    "# Python標準の配列\n",
    "x = [1, 2]"
   ]
  },
  {
   "cell_type": "markdown",
   "metadata": {},
   "source": [
    "しかし、これを３倍してみてもベクトル(3, 6)にはなりません。"
   ]
  },
  {
   "cell_type": "code",
   "execution_count": 3,
   "metadata": {
    "collapsed": false
   },
   "outputs": [
    {
     "data": {
      "text/plain": [
       "[1, 2, 1, 2, 1, 2]"
      ]
     },
     "execution_count": 3,
     "metadata": {},
     "output_type": "execute_result"
    }
   ],
   "source": [
    "# Python標準の配列を３倍する\n",
    "x * 3"
   ]
  },
  {
   "cell_type": "markdown",
   "metadata": {},
   "source": [
    "NumPyの配列を使ってみましょう。NumPyの配列は　**np.array()**　を使って簡単に作ることができます。<br>\n",
    "NumPy配列を使ってベクトル(1, 2)を作成し、それを３倍してみましょう。"
   ]
  },
  {
   "cell_type": "code",
   "execution_count": 4,
   "metadata": {
    "collapsed": false
   },
   "outputs": [
    {
     "data": {
      "text/plain": [
       "array([3, 6])"
      ]
     },
     "execution_count": 4,
     "metadata": {},
     "output_type": "execute_result"
    }
   ],
   "source": [
    "X = np.array( [1, 2])\n",
    "X * 3"
   ]
  },
  {
   "cell_type": "markdown",
   "metadata": {},
   "source": [
    "期待通りの結果が得られました。このように、NumPyを利用すると数学的に処理が簡単に行えるので便利です。また、Pythonでは配列の要素数を知るのに、「.size」を使いますが、NumPyの配列はPythonの配列を拡張したものなので、Pythonの配列で利用できるものは基本的にそのまま使えます。"
   ]
  },
  {
   "cell_type": "code",
   "execution_count": 5,
   "metadata": {
    "collapsed": false
   },
   "outputs": [
    {
     "data": {
      "text/plain": [
       "2"
      ]
     },
     "execution_count": 5,
     "metadata": {},
     "output_type": "execute_result"
    }
   ],
   "source": [
    "X.size"
   ]
  },
  {
   "cell_type": "markdown",
   "metadata": {},
   "source": [
    "###  行列演算\n",
    "機械学習では行列演算も頻繁に利用されます。下記のような３行３列（3x3）と３行２列（3x2）の行列積を計算することを考えてみましょう。\n",
    "\n",
    "<div align=\"center\"  style=\"width:100%\">\n",
    "<img src=\"./dataStep1/matrix_product.png\"></div>"
   ]
  },
  {
   "cell_type": "markdown",
   "metadata": {},
   "source": [
    "まず、行列そのものをどのようにPythonで記述するということが問題になりますが、行列も数字を並べたものですからベクトルの時と同じように配列を使うのが自然でしょう。ただし、行列の場合はベクトルと違い、数字を一行並べるだけではダメです。ですから、以下のように配列の中に配列を入れて複数の行を表現します。"
   ]
  },
  {
   "cell_type": "code",
   "execution_count": 6,
   "metadata": {
    "collapsed": true
   },
   "outputs": [],
   "source": [
    "A = np.array(\n",
    "    [[2, -1, 1],\n",
    "     [1,  0, 2],\n",
    "     [0,  3, 1]])\n",
    "\n",
    "B = np.array(\n",
    "    [[2,  1],\n",
    "     [1,  0],\n",
    "     [0, -1]])"
   ]
  },
  {
   "cell_type": "markdown",
   "metadata": {},
   "source": [
    "行列Aと行列Bの積のことを行列積と呼びます。これは単純な掛け算ではないのは上図からも明らかです。そこで「・」という記号を使って「A・B」と表記します。数学的にこのような表記を用いることから、行列積はドット積とも呼ばれます。NumPyはドット積の演算を行うために、「np.dot()」という関数を用意しているので、これを使って以下のように記述すれば行列Aと行列Bの行列積を計算できます。"
   ]
  },
  {
   "cell_type": "code",
   "execution_count": 7,
   "metadata": {
    "collapsed": false
   },
   "outputs": [
    {
     "data": {
      "text/plain": [
       "array([[ 3,  1],\n",
       "       [ 2, -1],\n",
       "       [ 3, -1]])"
      ]
     },
     "execution_count": 7,
     "metadata": {},
     "output_type": "execute_result"
    }
   ],
   "source": [
    "# 行列積の計算\n",
    "np.dot(A, B)"
   ]
  },
  {
   "cell_type": "markdown",
   "metadata": {},
   "source": [
    "これは下記のように記述することも可能です（どちらの表記を使うかは好みの問題です）。"
   ]
  },
  {
   "cell_type": "code",
   "execution_count": 8,
   "metadata": {
    "collapsed": false
   },
   "outputs": [
    {
     "data": {
      "text/plain": [
       "array([[ 3,  1],\n",
       "       [ 2, -1],\n",
       "       [ 3, -1]])"
      ]
     },
     "execution_count": 8,
     "metadata": {},
     "output_type": "execute_result"
    }
   ],
   "source": [
    "# 行列積の計算：np.dot(A, B)と同じ\n",
    "A.dot(B)"
   ]
  },
  {
   "cell_type": "markdown",
   "metadata": {},
   "source": [
    "掛け算は順序を入れ替えても同じ答えになります。つまり「a x b = b x a」です。行列の場合は、「A・B」と「B・A」は同じになるでしょうか？確認してみましょう。"
   ]
  },
  {
   "cell_type": "code",
   "execution_count": 9,
   "metadata": {
    "collapsed": false
   },
   "outputs": [
    {
     "ename": "ValueError",
     "evalue": "shapes (3,2) and (3,3) not aligned: 2 (dim 1) != 3 (dim 0)",
     "output_type": "error",
     "traceback": [
      "\u001b[0;31m---------------------------------------------------------------------------\u001b[0m",
      "\u001b[0;31mValueError\u001b[0m                                Traceback (most recent call last)",
      "\u001b[0;32m<ipython-input-9-5878e92b7a62>\u001b[0m in \u001b[0;36m<module>\u001b[0;34m()\u001b[0m\n\u001b[0;32m----> 1\u001b[0;31m \u001b[0mnp\u001b[0m\u001b[0;34m.\u001b[0m\u001b[0mdot\u001b[0m\u001b[0;34m(\u001b[0m\u001b[0mB\u001b[0m\u001b[0;34m,\u001b[0m \u001b[0mA\u001b[0m\u001b[0;34m)\u001b[0m\u001b[0;34m\u001b[0m\u001b[0m\n\u001b[0m",
      "\u001b[0;31mValueError\u001b[0m: shapes (3,2) and (3,3) not aligned: 2 (dim 1) != 3 (dim 0)"
     ]
    }
   ],
   "source": [
    "np.dot(B, A)"
   ]
  },
  {
   "cell_type": "markdown",
   "metadata": {},
   "source": [
    "一般に、「A・B」と「B・A」は等しくなりません。この例では、同じになるどころかエラーになってしまい計算すらできません。なぜなら、「B・A」の場合は、左側が「3x2」の行列、右側が「3x3」の行列になるので、内側の数字が「2」と「3」となり一致していないからです。"
   ]
  },
  {
   "cell_type": "markdown",
   "metadata": {},
   "source": [
    "#### 転置行列\n",
    "行列の行と列を入れ替えたも（ひっくり返したもの）行列を、その行列の転置行列（Transverse Matrix）と呼びます。\n",
    "\n",
    "\n",
    "<div align=\"center\"  style=\"width:100%\">\n",
    "<img src=\"./dataStep1/transverse_matrix.png\"></div>\n",
    "\n",
    "NumPy配列を用いて表現された行列は、その行列の最後に「.T」を付ければ、その行列の逆行列を作れます。行列Bの逆行列Cを作ってみましょう。"
   ]
  },
  {
   "cell_type": "code",
   "execution_count": 10,
   "metadata": {
    "collapsed": false
   },
   "outputs": [
    {
     "name": "stdout",
     "output_type": "stream",
     "text": [
      "[[ 2  1  0]\n",
      " [ 1  0 -1]]\n"
     ]
    }
   ],
   "source": [
    "# 行列Bの逆行列\n",
    "C = B.T\n",
    "print(C)"
   ]
  },
  {
   "cell_type": "markdown",
   "metadata": {},
   "source": [
    "行列の形を確認するには、その行列の最後に「.shape」を付ければ確認できます。"
   ]
  },
  {
   "cell_type": "code",
   "execution_count": 11,
   "metadata": {
    "collapsed": false
   },
   "outputs": [
    {
     "data": {
      "text/plain": [
       "(2, 3)"
      ]
     },
     "execution_count": 11,
     "metadata": {},
     "output_type": "execute_result"
    }
   ],
   "source": [
    "# 行列Cの形（シェイプ）を確認\n",
    "C.shape"
   ]
  },
  {
   "cell_type": "markdown",
   "metadata": {},
   "source": [
    "行列Cは２行３列（2x3）のシェイプであることが確認できます。行列Cと行列Aの行列積「C・A」は計算できるでしょうか？行列Cは2x3、行列Aは3x3なので、内側の数字が一致しているので計算できます。\n",
    "\n",
    "<div align=\"center\"  style=\"width:100%\">\n",
    "<img src=\"./dataStep1/dot_product.png\"></div>\n",
    "\n",
    "実際に行列積「C・A」が計算できることを書きで確認してみましょう。"
   ]
  },
  {
   "cell_type": "code",
   "execution_count": 12,
   "metadata": {
    "collapsed": false
   },
   "outputs": [
    {
     "data": {
      "text/plain": [
       "array([[ 5, -2,  4],\n",
       "       [ 2, -4,  0]])"
      ]
     },
     "execution_count": 12,
     "metadata": {},
     "output_type": "execute_result"
    }
   ],
   "source": [
    "np.dot(C, A)"
   ]
  },
  {
   "cell_type": "markdown",
   "metadata": {},
   "source": [
    "## 応用編：行列積を使って直線を描いてみよう"
   ]
  },
  {
   "cell_type": "markdown",
   "metadata": {},
   "source": [
    "### ブロードキャスト\n",
    "NumPyの配列を使った演算では、配列の大きさが合わない場合に自動的に配列が大きい方に合わせて計算してくれる「ブロードキャスト」という機能があり、このおかげで数式を直感的に記述できます。\n",
    "\n",
    "<div align=\"center\"  style=\"width:100%\">\n",
    "<img src=\"./dataStep1/line_broadcast.png\"></div>\n"
   ]
  },
  {
   "cell_type": "markdown",
   "metadata": {},
   "source": [
    "この機能を使って実際に直線上の点をプロットしてみましょう。"
   ]
  },
  {
   "cell_type": "code",
   "execution_count": 13,
   "metadata": {
    "collapsed": false
   },
   "outputs": [
    {
     "data": {
      "text/plain": [
       "<matplotlib.collections.PathCollection at 0x7fd24a6c1c50>"
      ]
     },
     "execution_count": 13,
     "metadata": {},
     "output_type": "execute_result"
    },
    {
     "data": {
      "image/png": "[encoded data removed]",
      "text/plain": [
       "<matplotlib.figure.Figure at 0x7fd24ca526d8>"
      ]
     },
     "metadata": {},
     "output_type": "display_data"
    }
   ],
   "source": [
    "import numpy as np\n",
    "import matplotlib.pyplot as plt\n",
    "%matplotlib inline\n",
    "\n",
    "# x軸（xベクトル）\n",
    "x=np.array([0, 1, 2, 3])\n",
    "\n",
    "a = 2 # 傾きa\n",
    "b = 1 # y切片b\n",
    "\n",
    "y = a*x + b # 直線の式（直感的に記述できる！）\n",
    "\n",
    "plt.scatter(x, y) # (x, y)の位置にプロットする"
   ]
  },
  {
   "cell_type": "markdown",
   "metadata": {},
   "source": [
    "### 行列積を用いて直線上の点を表現する\n",
    "\n",
    "まず、下記の行列演算が可能であることを確認しましょう。「1x2の行列」と「2x1の行列」の行列積は、内側の数が両方とも同じ「2」なので計算できます。\n",
    "\n",
    "\n",
    "<div align=\"center\"  style=\"width:100%\">\n",
    "<img src=\"./dataStep1/simple_matrix.png\"></div>\n",
    "\n",
    "実際に演算できることを確認しましょう。"
   ]
  },
  {
   "cell_type": "code",
   "execution_count": 14,
   "metadata": {
    "collapsed": false
   },
   "outputs": [
    {
     "name": "stdout",
     "output_type": "stream",
     "text": [
      "11\n"
     ]
    }
   ],
   "source": [
    "D = np.array([5, 2])\n",
    "E = np.array([1, 3])\n",
    "\n",
    "F = np.dot(D, E)\n",
    "print(F)"
   ]
  },
  {
   "cell_type": "markdown",
   "metadata": {},
   "source": [
    "しっかり確認できたでしょうか。ここからが応用編の本番です。注意深く以下の議論を追いかけてください。上記の行列演算が可能だということは、行列が下記のようになっていると「直線 y = ax + b」の各点が行列積で表現できることが理解できるでしょう。\n",
    "\n",
    "<div align=\"center\"  style=\"width:100%\">\n",
    "<img src=\"./dataStep1/line_with_matrix.png\"></div>\n",
    "\n",
    "たとえば、「x = 0」の時の y の値は下記のように計算できます。「y = 2・0 + 1 = 1」になることを確認してください。"
   ]
  },
  {
   "cell_type": "code",
   "execution_count": 15,
   "metadata": {
    "collapsed": false
   },
   "outputs": [
    {
     "name": "stdout",
     "output_type": "stream",
     "text": [
      "1\n"
     ]
    }
   ],
   "source": [
    "# 「x = 0」の時のyの値を計算するため、xの値の前に1を付けた行列を用意する\n",
    "X = np.array([1, 0])\n",
    "\n",
    "a = 2 # 傾きa\n",
    "b = 1 # y切片b\n",
    "theta = np.array([b, a])\n",
    "\n",
    "y = np.dot(X, theta)\n",
    "\n",
    "print(y)"
   ]
  },
  {
   "cell_type": "markdown",
   "metadata": {},
   "source": [
    "同様に、「x = 1」の時の y の値は下記のように計算できます。「y = 2・1 + 1 = 3」になることを確認してください。"
   ]
  },
  {
   "cell_type": "code",
   "execution_count": 16,
   "metadata": {
    "collapsed": false
   },
   "outputs": [
    {
     "name": "stdout",
     "output_type": "stream",
     "text": [
      "3\n"
     ]
    }
   ],
   "source": [
    "# 「x = 1」の時のyの値を計算するため、xの値の前に1を付けた行列を用意する\n",
    "X = np.array([1, 1])\n",
    "\n",
    "a = 2 # 傾きa\n",
    "b = 1 # y切片b\n",
    "theta = np.array([b, a])\n",
    "\n",
    "y = np.dot(X, theta)\n",
    "\n",
    "print(y)"
   ]
  },
  {
   "cell_type": "markdown",
   "metadata": {},
   "source": [
    "これで行列積を用いて y の値が計算できることは確認できたと思います。しかしながら、ベクトルxの要素一つ一つに対応するyの値を個別に計算していては大変です。下記のようにすれば、yの値をまとめて計算できるので便利です。ここでのポイントは、与えられているベクトルxの各要素の前に「1」を付けた行列Xを用意することです。\n",
    "\n",
    "<div align=\"center\"  style=\"width:100%\">\n",
    "<img src=\"./dataStep1/line_all_with_matrix.png\"></div>\n",
    "\n",
    "以下のセルを実行し、行列積を用いて「直線 y = a*x + b」上の各点がすべて一度に求められることを確認しましょう。"
   ]
  },
  {
   "cell_type": "code",
   "execution_count": 17,
   "metadata": {
    "collapsed": false,
    "scrolled": true
   },
   "outputs": [
    {
     "data": {
      "text/plain": [
       "<matplotlib.collections.PathCollection at 0x7fd24ca5cac8>"
      ]
     },
     "execution_count": 17,
     "metadata": {},
     "output_type": "execute_result"
    },
    {
     "data": {
      "image/png": "[encoded data removed]",
      "text/plain": [
       "<matplotlib.figure.Figure at 0x7fd24a7125f8>"
      ]
     },
     "metadata": {},
     "output_type": "display_data"
    }
   ],
   "source": [
    "import numpy as np\n",
    "import matplotlib.pyplot as plt\n",
    "%matplotlib inline\n",
    "\n",
    "# x軸（xベクトル）\n",
    "x = np.array([0, 1, 2, 3])\n",
    "\n",
    "a = 2 # 傾きa\n",
    "b = 1 # y切片b\n",
    "\n",
    "# xの要素の先頭に1を追加\n",
    "X = np.array([[1, 0],\n",
    "              [1, 1],\n",
    "              [1, 2],\n",
    "              [1, 3]])\n",
    "\n",
    "theta = np.array([b, a])\n",
    "y = np.dot(X, theta)\n",
    "\n",
    "plt.scatter(x, y) # (x, y)の位置にプロットする"
   ]
  },
  {
   "cell_type": "markdown",
   "metadata": {},
   "source": [
    "### ベクトル x の要素数を増やして直線をプロットしてみよう\n",
    "\n",
    "上記のコードでは、ベクトル x の各要素の先頭に1を追加することで配列Xを用意しました。しかし、ベクトル x の要素数が100個も1000個もあったら、このようなやり方で1を直接追加するのは大変です。そこで、必要なだけ１を用意して、それをペタリとベクトル x　にくっ付けることができたら便利です。必要なだけ１を用意するには「np.ones([a, b])」を使うことができます。この関数は要素が全て1のa行b列の行列を生成します。また、2つの行列Aと行列Bをペタリとくっ付ける処理には「np.c_[A, B]」が使えます。下記のセルを実行すると、上記のコードで直接手書きで用意した行列Xが生成されることを確認してください。"
   ]
  },
  {
   "cell_type": "code",
   "execution_count": 18,
   "metadata": {
    "collapsed": false
   },
   "outputs": [
    {
     "name": "stdout",
     "output_type": "stream",
     "text": [
      "[[1. 0.]\n",
      " [1. 1.]\n",
      " [1. 2.]\n",
      " [1. 3.]]\n"
     ]
    }
   ],
   "source": [
    "# x軸（xベクトル）\n",
    "x = np.array([0, 1, 2, 3])\n",
    "\n",
    "# Xの1列目にズラッと1を並べる。np.c_[]はcolumn方向に連結\n",
    "X = np.c_[np.ones([4,1]), x] \n",
    "\n",
    "print(X)"
   ]
  },
  {
   "cell_type": "markdown",
   "metadata": {},
   "source": [
    "ベクトル x を0から100まで間隔1で用意したい場合（つまり、0, 1, 2, 3, ..., 100）、「関数np.arange(a, b, c)」 が利用できます。「関数np.arange(a, b, c)」はaからbまで（ただしbは含まない）範囲で、間隔cで数値を配列を生成します。ここでは、0から100まで間隔1で数値を用意したいのですから下記のようにします。"
   ]
  },
  {
   "cell_type": "code",
   "execution_count": 19,
   "metadata": {
    "collapsed": false
   },
   "outputs": [
    {
     "data": {
      "text/plain": [
       "array([  0,   1,   2,   3,   4,   5,   6,   7,   8,   9,  10,  11,  12,\n",
       "        13,  14,  15,  16,  17,  18,  19,  20,  21,  22,  23,  24,  25,\n",
       "        26,  27,  28,  29,  30,  31,  32,  33,  34,  35,  36,  37,  38,\n",
       "        39,  40,  41,  42,  43,  44,  45,  46,  47,  48,  49,  50,  51,\n",
       "        52,  53,  54,  55,  56,  57,  58,  59,  60,  61,  62,  63,  64,\n",
       "        65,  66,  67,  68,  69,  70,  71,  72,  73,  74,  75,  76,  77,\n",
       "        78,  79,  80,  81,  82,  83,  84,  85,  86,  87,  88,  89,  90,\n",
       "        91,  92,  93,  94,  95,  96,  97,  98,  99, 100])"
      ]
     },
     "execution_count": 19,
     "metadata": {},
     "output_type": "execute_result"
    }
   ],
   "source": [
    "np.arange(0, 101, 1)"
   ]
  },
  {
   "cell_type": "markdown",
   "metadata": {},
   "source": [
    "上記で学んだことをすべて用い、行列積を使って「直線 y = ax + b」をプロットするコードを自力で作ってみましょう。"
   ]
  },
  {
   "cell_type": "code",
   "execution_count": null,
   "metadata": {
    "collapsed": true
   },
   "outputs": [],
   "source": []
  },
  {
   "cell_type": "code",
   "execution_count": null,
   "metadata": {
    "collapsed": true
   },
   "outputs": [],
   "source": []
  },
  {
   "cell_type": "markdown",
   "metadata": {},
   "source": [
    "解答例は下記の通りです。"
   ]
  },
  {
   "cell_type": "code",
   "execution_count": 20,
   "metadata": {
    "collapsed": false
   },
   "outputs": [
    {
     "data": {
      "text/plain": [
       "<matplotlib.collections.PathCollection at 0x7fd24a5e56d8>"
      ]
     },
     "execution_count": 20,
     "metadata": {},
     "output_type": "execute_result"
    },
    {
     "data": {
      "image/png": "[encoded data removed]",
      "text/plain": [
       "<matplotlib.figure.Figure at 0x7fd24a70b940>"
      ]
     },
     "metadata": {},
     "output_type": "display_data"
    }
   ],
   "source": [
    "import numpy as np\n",
    "import matplotlib.pyplot as plt\n",
    "%matplotlib inline\n",
    "\n",
    "# x軸（xベクトル）\n",
    "x = np.arange(0, 101, 1)\n",
    "m = x.size # xの要素数（サイズ）\n",
    "\n",
    "# Xの1列目にズラッと1を並べる\n",
    "X = np.c_[np.ones([m,1]), x] \n",
    "\n",
    "a = 2 # 傾きa\n",
    "b = 1 # y切片b\n",
    "\n",
    "theta = np.array([b, a])\n",
    "y = np.dot(X, theta)\n",
    "\n",
    "plt.scatter(x, y) # (x, y)の位置にプロットする"
   ]
  },
  {
   "cell_type": "code",
   "execution_count": null,
   "metadata": {
    "collapsed": true
   },
   "outputs": [],
   "source": []
  },
  {
   "cell_type": "code",
   "execution_count": null,
   "metadata": {
    "collapsed": true
   },
   "outputs": [],
   "source": []
  }
 ],
 "metadata": {
  "anaconda-cloud": {},
  "kernelspec": {
   "display_name": "Python [default]",
   "language": "python",
   "name": "python3"
  },
  "language_info": {
   "codemirror_mode": {
    "name": "ipython",
    "version": 3
   },
   "file_extension": ".py",
   "mimetype": "text/x-python",
   "name": "python",
   "nbconvert_exporter": "python",
   "pygments_lexer": "ipython3",
   "version": "3.5.2"
  },
  "toc": {
   "nav_menu": {
    "height": "194px",
    "width": "252px"
   },
   "navigate_menu": true,
   "number_sections": true,
   "sideBar": true,
   "threshold": 4,
   "toc_cell": false,
   "toc_section_display": "block",
   "toc_window_display": false
  }
 },
 "nbformat": 4,
 "nbformat_minor": 2
}
